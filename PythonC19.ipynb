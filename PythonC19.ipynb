{
 "cells": [
  {
   "cell_type": "markdown",
   "id": "c08d1ffb",
   "metadata": {},
   "source": [
    "# Proyecto C19 Python"
   ]
  },
  {
   "cell_type": "code",
   "execution_count": 23,
   "id": "731d33fc",
   "metadata": {},
   "outputs": [],
   "source": [
    "#Imports\n",
    "import pandas as pd\n",
    "import matplotlib.pyplot as plt\n",
    "import seaborn as sns\n",
    "import numpy as np\n",
    "from scipy.stats import norm\n",
    "from scipy import stats\n",
    "import os\n",
    "import glob"
   ]
  },
  {
   "cell_type": "code",
   "execution_count": 24,
   "id": "fc113073",
   "metadata": {},
   "outputs": [],
   "source": [
    "#Define dataset de examenes PCR por region/fecha\n",
    "pcrStdDf = pd.read_csv(os.getcwd() + \"/dataSets/producto7/PCR_std.csv\", index_col=None, header=0)\n",
    "pcrStdDf.columns = ['region', 'codigo_region', 'poblacion', 'fecha', 'numero_pcr']\n",
    "\n",
    "#Define dataset de casos nuevos por region/fecha\n",
    "casosNuevosDf = pd.read_csv(os.getcwd() + \"/dataSets/producto13/CasosNuevosCumulativo_std.csv\", index_col=None, header=0)\n",
    "casosNuevosDf.columns = ['region', 'fecha', 'total']\n",
    "#ToDo verificar el tema del codigo de region para casosNuevosDf\n",
    "#https://www.dataquest.io/blog/tutorial-add-column-pandas-dataframe-based-on-if-else-condition/"
   ]
  },
  {
   "cell_type": "code",
   "execution_count": 25,
   "id": "cadc485e",
   "metadata": {},
   "outputs": [],
   "source": [
    "casosNuevosDfCondicionesCodRegion = (\n",
    "    (casosNuevosDf['region'] == 'Arica y Parinacota'),\n",
    "    (casosNuevosDf['region'] == 'Tarapacá'),\n",
    "    (casosNuevosDf['region'] == 'Antofagasta'),\n",
    "    (casosNuevosDf['region'] == 'Atacama'),\n",
    "    (casosNuevosDf['region'] == 'Coquimbo'),\n",
    "    (casosNuevosDf['region'] == 'Valparaíso'),\n",
    "    (casosNuevosDf['region'] == 'O’Higgins'),\n",
    "    (casosNuevosDf['region'] == 'Maule'),\n",
    "    (casosNuevosDf['region'] == 'Ñuble'),\n",
    "    (casosNuevosDf['region'] == 'Biobío'),\n",
    "    (casosNuevosDf['region'] == 'Araucanía'),\n",
    "    (casosNuevosDf['region'] == 'Los Ríos'),\n",
    "    (casosNuevosDf['region'] == 'Los Lagos'),\n",
    "    (casosNuevosDf['region'] == 'Aysén'),\n",
    "    (casosNuevosDf['region'] == 'Magallanes'),\n",
    "    (casosNuevosDf['region'] == 'Metropolitana')\n",
    ")\n",
    "\n",
    "casosNuevosDfValoresCodRegion = [15,1,2,3,4,5,6,7,16,8,9,14,10,11,12,13]\n",
    "\n",
    "casosNuevosDf['codigo_region'] = np.select(casosNuevosDfCondicionesCodRegion, casosNuevosDfValoresCodRegion)\n",
    "\n",
    "#casosNuevosDf.head(17)"
   ]
  },
  {
   "cell_type": "code",
   "execution_count": 34,
   "id": "6ff6865f",
   "metadata": {},
   "outputs": [],
   "source": [
    "#Define dataframes product2/4 en un mapa, y cada key es una fecha de un archivo encontrado\n",
    "def loadDataFrameToMap(carpeta, indexKey) :\n",
    "        \n",
    "    files = [os.path.basename(x) for x in glob.glob(carpeta)]\n",
    "    \n",
    "    mapDataFramesByDate = {}\n",
    "\n",
    "    for fileName in files:\n",
    "        keyMap = int((fileName[0: -indexKey]).replace(\"-\", ''))\n",
    "        mapDataFramesByDate[keyMap] = pd.read_csv(carpeta[0: -5] + fileName, index_col=None, header=0)\n",
    "    \n",
    "    #ToDo: ordenar por orden ascendente(?)\n",
    "    return pd.Series(mapDataFramesByDate).sort_index()"
   ]
  },
  {
   "cell_type": "code",
   "execution_count": 35,
   "id": "6f19d546",
   "metadata": {},
   "outputs": [],
   "source": [
    "pathProduct2 = os.getcwd() + \"/dataSets/producto2/*.csv\";\n",
    "product2MapDF = loadDataFrameToMap(pathProduct2, 21)\n",
    "#product2MapDF[20210201]\n",
    "\n",
    "pathProduct4 = os.getcwd() + \"/dataSets/producto4/*.csv\";\n",
    "product4MapDF = loadDataFrameToMap(pathProduct4, 35)\n",
    "#product4MapDF[20210607]"
   ]
  },
  {
   "cell_type": "code",
   "execution_count": 36,
   "id": "8c00e6b8",
   "metadata": {},
   "outputs": [
    {
     "data": {
      "text/plain": [
       "20210101                               Region  Casos total...\n",
       "20210102                               Region  Casos total...\n",
       "20210103                               Region  Casos total...\n",
       "20210104                               Region  Casos total...\n",
       "20210105                               Region  Casos total...\n",
       "dtype: object"
      ]
     },
     "execution_count": 36,
     "metadata": {},
     "output_type": "execute_result"
    }
   ],
   "source": [
    "#ToDo: verificar si es necesaria o no esta funcion!!!!\n",
    "def obtainDataFrames(mapDataFrames, fechaDesde, fechaHasta, exclusiveDesde = False, exclusiveHasta = False) :\n",
    "    \n",
    "    if (fechaHasta < fechaDesde) :\n",
    "        raise Exception('La fecha de la variable fechaHasta, no puede ser menor a la variable fechaDesde') \n",
    "    \n",
    "    if (exclusiveDesde) :\n",
    "        fechaDesde = fechaDesde + 1\n",
    "        \n",
    "    if (exclusiveHasta) :\n",
    "        fechaHasta = fechaHasta - 1\n",
    "        \n",
    "    mapFechasEntre = {}\n",
    "    for mapKeyFecha in mapDataFrames.keys() :\n",
    "        if(mapKeyFecha >= fechaDesde and mapKeyFecha <= fechaHasta) :\n",
    "            mapFechasEntre[mapKeyFecha] = mapDataFrames[mapKeyFecha]\n",
    "\n",
    "    return pd.Series(mapFechasEntre).sort_index()\n",
    "\n",
    "\n",
    "obtainDataFrames(product4MapDF, 20210101, 20210105, False, False)\n"
   ]
  },
  {
   "cell_type": "markdown",
   "id": "9a76b669",
   "metadata": {},
   "source": [
    "# Positividad de casos\n",
    "\n",
    "(Proporcion de test positivos por dia / Total de test efectuados en un dia) * 100\n",
    "\n",
    "- Proporcion de test positivos por dia => DataSet product4 col: \"casos nuevos totales\"\n",
    "- Total de test efectuados en un dia => DataSet product7 col: \"numero\""
   ]
  },
  {
   "cell_type": "code",
   "execution_count": null,
   "id": "c1eccb0d",
   "metadata": {},
   "outputs": [],
   "source": [
    "def obtenerPcrPorFechaYDistrito(fecha, distrito) :\n",
    "    predicadoFecha = pcrStdDf[\"fecha\"] == fecha\n",
    "    predicadoDistrito = pcrStdDf[\"codigo_region\"] == distrito\n",
    "    \n",
    "    return pcrStdDf[\n",
    "        (predicadoDistrito) & \n",
    "        (predicadoFecha)\n",
    "    ]\n",
    "\n",
    "#obtenerPcrPorFechaYDistrito('2021-08-09', 5)"
   ]
  },
  {
   "cell_type": "code",
   "execution_count": 40,
   "id": "cd0fe99e",
   "metadata": {},
   "outputs": [],
   "source": [
    "def obtenerCasosNuevosPorFechaYDistrito(fecha, distrito) :\n",
    "    predicadoFecha = casosNuevosDf[\"fecha\"] == fecha\n",
    "    predicadoDistrito = pd.to_numeric(casosNuevosDf[\"codigo_region\"]) == distrito\n",
    "    \n",
    "    return casosNuevosDf[\n",
    "        (predicadoFecha) & \n",
    "        (predicadoDistrito)\n",
    "    ]\n",
    "\n",
    "#obtenerCasosNuevosPorFechaYDistrito('2021-08-09', 5)"
   ]
  },
  {
   "cell_type": "code",
   "execution_count": 41,
   "id": "5b037b32",
   "metadata": {},
   "outputs": [],
   "source": [
    "def calculoUmbral(positividad):\n",
    "    if(positividad <= 3) :\n",
    "        return \"verde\"\n",
    "    elif (positividad <= 5 & positividad > 3) :\n",
    "        return \"amarillo\"\n",
    "    elif (positividad > 5) :\n",
    "        return \"naranja\"\n",
    "\n",
    "def calcularPositividadYUmbral(fecha, distrito) :\n",
    "    casosNuevos = obtenerCasosNuevosPorFechaYDistrito(fecha, distrito)\n",
    "    pcr = obtenerPcrPorFechaYDistrito(fecha, distrito)\n",
    "\n",
    "    positividad = ((casosNuevos['total'].item() / pcr['numero_pcr'].item()) * 100)\n",
    "    \n",
    "    return pd.Series({\n",
    "        \"positividad\" : positividad, \n",
    "        \"umbral\": calculoUmbral(positividad)\n",
    "    })\n",
    "\n",
    "#calcularPositividadYUmbral('2021-08-09', 5)"
   ]
  },
  {
   "cell_type": "code",
   "execution_count": null,
   "id": "2c4093c3",
   "metadata": {},
   "outputs": [],
   "source": []
  }
 ],
 "metadata": {
  "kernelspec": {
   "display_name": "Python 3",
   "language": "python",
   "name": "python3"
  },
  "language_info": {
   "codemirror_mode": {
    "name": "ipython",
    "version": 3
   },
   "file_extension": ".py",
   "mimetype": "text/x-python",
   "name": "python",
   "nbconvert_exporter": "python",
   "pygments_lexer": "ipython3",
   "version": "3.8.8"
  }
 },
 "nbformat": 4,
 "nbformat_minor": 5
}
