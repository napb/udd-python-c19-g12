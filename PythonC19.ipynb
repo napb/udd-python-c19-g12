{
 "cells": [
  {
   "cell_type": "markdown",
   "id": "c08d1ffb",
   "metadata": {},
   "source": [
    "# Proyecto C19 Python"
   ]
  },
  {
<<<<<<< HEAD
   "cell_type": "markdown",
   "id": "0e9e2954",
   "metadata": {},
   "source": [
    "reportando cpdiaz"
   ]
  },
  {
   "cell_type": "code",
   "execution_count": 1,
   "id": "c91b980e",
=======
   "cell_type": "code",
<<<<<<< HEAD
   "execution_count": 23,
=======
   "execution_count": 55,
>>>>>>> 313cc5f8c43e5b0b5b557fbe7948186e7a3f2fdf
   "id": "731d33fc",
>>>>>>> 9e1a20fa49c0e96dc62fb569d3c7f9f035033f4d
   "metadata": {},
   "outputs": [],
   "source": [
    "#Imports\n",
    "import pandas as pd\n",
    "import matplotlib.pyplot as plt\n",
    "import seaborn as sns\n",
    "import numpy as np\n",
    "from scipy.stats import norm\n",
    "from scipy import stats\n",
    "import os\n",
    "import glob"
   ]
  },
  {
   "cell_type": "code",
<<<<<<< HEAD
<<<<<<< HEAD
<<<<<<< HEAD
<<<<<<< HEAD
   "execution_count": 6,
   "id": "6de3e829",
   "metadata": {},
   "outputs": [
    {
     "ename": "FileNotFoundError",
     "evalue": "[Errno 2] No such file or directory: 'C:\\\\Users\\\\cpdiaz\\\\OneDrive - Telefonica\\\\Personal\\\\Data Science UDD 2021\\\\Python\\\\Trabajo_Final\\\\udd-python-c19-g12/dataSets/producto7/PCR_std.csv'",
     "output_type": "error",
     "traceback": [
      "\u001b[1;31m---------------------------------------------------------------------------\u001b[0m",
      "\u001b[1;31mFileNotFoundError\u001b[0m                         Traceback (most recent call last)",
      "\u001b[1;32m<ipython-input-6-7af9e79cc1a9>\u001b[0m in \u001b[0;36m<module>\u001b[1;34m\u001b[0m\n\u001b[0;32m      1\u001b[0m \u001b[1;31m#Define dataset de examenes PCR por region/fecha\u001b[0m\u001b[1;33m\u001b[0m\u001b[1;33m\u001b[0m\u001b[1;33m\u001b[0m\u001b[0m\n\u001b[1;32m----> 2\u001b[1;33m \u001b[0mpcrStd\u001b[0m \u001b[1;33m=\u001b[0m \u001b[0mpd\u001b[0m\u001b[1;33m.\u001b[0m\u001b[0mread_csv\u001b[0m\u001b[1;33m(\u001b[0m\u001b[0mos\u001b[0m\u001b[1;33m.\u001b[0m\u001b[0mgetcwd\u001b[0m\u001b[1;33m(\u001b[0m\u001b[1;33m)\u001b[0m \u001b[1;33m+\u001b[0m \u001b[1;34m\"/dataSets/producto7/PCR_std.csv\"\u001b[0m\u001b[1;33m,\u001b[0m \u001b[0mindex_col\u001b[0m\u001b[1;33m=\u001b[0m\u001b[1;32mNone\u001b[0m\u001b[1;33m,\u001b[0m \u001b[0mheader\u001b[0m\u001b[1;33m=\u001b[0m\u001b[1;36m0\u001b[0m\u001b[1;33m)\u001b[0m\u001b[1;33m\u001b[0m\u001b[1;33m\u001b[0m\u001b[0m\n\u001b[0m",
      "\u001b[1;32m~\\Anaconda3\\lib\\site-packages\\pandas\\io\\parsers.py\u001b[0m in \u001b[0;36mread_csv\u001b[1;34m(filepath_or_buffer, sep, delimiter, header, names, index_col, usecols, squeeze, prefix, mangle_dupe_cols, dtype, engine, converters, true_values, false_values, skipinitialspace, skiprows, skipfooter, nrows, na_values, keep_default_na, na_filter, verbose, skip_blank_lines, parse_dates, infer_datetime_format, keep_date_col, date_parser, dayfirst, cache_dates, iterator, chunksize, compression, thousands, decimal, lineterminator, quotechar, quoting, doublequote, escapechar, comment, encoding, dialect, error_bad_lines, warn_bad_lines, delim_whitespace, low_memory, memory_map, float_precision, storage_options)\u001b[0m\n\u001b[0;32m    608\u001b[0m     \u001b[0mkwds\u001b[0m\u001b[1;33m.\u001b[0m\u001b[0mupdate\u001b[0m\u001b[1;33m(\u001b[0m\u001b[0mkwds_defaults\u001b[0m\u001b[1;33m)\u001b[0m\u001b[1;33m\u001b[0m\u001b[1;33m\u001b[0m\u001b[0m\n\u001b[0;32m    609\u001b[0m \u001b[1;33m\u001b[0m\u001b[0m\n\u001b[1;32m--> 610\u001b[1;33m     \u001b[1;32mreturn\u001b[0m \u001b[0m_read\u001b[0m\u001b[1;33m(\u001b[0m\u001b[0mfilepath_or_buffer\u001b[0m\u001b[1;33m,\u001b[0m \u001b[0mkwds\u001b[0m\u001b[1;33m)\u001b[0m\u001b[1;33m\u001b[0m\u001b[1;33m\u001b[0m\u001b[0m\n\u001b[0m\u001b[0;32m    611\u001b[0m \u001b[1;33m\u001b[0m\u001b[0m\n\u001b[0;32m    612\u001b[0m \u001b[1;33m\u001b[0m\u001b[0m\n",
      "\u001b[1;32m~\\Anaconda3\\lib\\site-packages\\pandas\\io\\parsers.py\u001b[0m in \u001b[0;36m_read\u001b[1;34m(filepath_or_buffer, kwds)\u001b[0m\n\u001b[0;32m    460\u001b[0m \u001b[1;33m\u001b[0m\u001b[0m\n\u001b[0;32m    461\u001b[0m     \u001b[1;31m# Create the parser.\u001b[0m\u001b[1;33m\u001b[0m\u001b[1;33m\u001b[0m\u001b[1;33m\u001b[0m\u001b[0m\n\u001b[1;32m--> 462\u001b[1;33m     \u001b[0mparser\u001b[0m \u001b[1;33m=\u001b[0m \u001b[0mTextFileReader\u001b[0m\u001b[1;33m(\u001b[0m\u001b[0mfilepath_or_buffer\u001b[0m\u001b[1;33m,\u001b[0m \u001b[1;33m**\u001b[0m\u001b[0mkwds\u001b[0m\u001b[1;33m)\u001b[0m\u001b[1;33m\u001b[0m\u001b[1;33m\u001b[0m\u001b[0m\n\u001b[0m\u001b[0;32m    463\u001b[0m \u001b[1;33m\u001b[0m\u001b[0m\n\u001b[0;32m    464\u001b[0m     \u001b[1;32mif\u001b[0m \u001b[0mchunksize\u001b[0m \u001b[1;32mor\u001b[0m \u001b[0miterator\u001b[0m\u001b[1;33m:\u001b[0m\u001b[1;33m\u001b[0m\u001b[1;33m\u001b[0m\u001b[0m\n",
      "\u001b[1;32m~\\Anaconda3\\lib\\site-packages\\pandas\\io\\parsers.py\u001b[0m in \u001b[0;36m__init__\u001b[1;34m(self, f, engine, **kwds)\u001b[0m\n\u001b[0;32m    817\u001b[0m             \u001b[0mself\u001b[0m\u001b[1;33m.\u001b[0m\u001b[0moptions\u001b[0m\u001b[1;33m[\u001b[0m\u001b[1;34m\"has_index_names\"\u001b[0m\u001b[1;33m]\u001b[0m \u001b[1;33m=\u001b[0m \u001b[0mkwds\u001b[0m\u001b[1;33m[\u001b[0m\u001b[1;34m\"has_index_names\"\u001b[0m\u001b[1;33m]\u001b[0m\u001b[1;33m\u001b[0m\u001b[1;33m\u001b[0m\u001b[0m\n\u001b[0;32m    818\u001b[0m \u001b[1;33m\u001b[0m\u001b[0m\n\u001b[1;32m--> 819\u001b[1;33m         \u001b[0mself\u001b[0m\u001b[1;33m.\u001b[0m\u001b[0m_engine\u001b[0m \u001b[1;33m=\u001b[0m \u001b[0mself\u001b[0m\u001b[1;33m.\u001b[0m\u001b[0m_make_engine\u001b[0m\u001b[1;33m(\u001b[0m\u001b[0mself\u001b[0m\u001b[1;33m.\u001b[0m\u001b[0mengine\u001b[0m\u001b[1;33m)\u001b[0m\u001b[1;33m\u001b[0m\u001b[1;33m\u001b[0m\u001b[0m\n\u001b[0m\u001b[0;32m    820\u001b[0m \u001b[1;33m\u001b[0m\u001b[0m\n\u001b[0;32m    821\u001b[0m     \u001b[1;32mdef\u001b[0m \u001b[0mclose\u001b[0m\u001b[1;33m(\u001b[0m\u001b[0mself\u001b[0m\u001b[1;33m)\u001b[0m\u001b[1;33m:\u001b[0m\u001b[1;33m\u001b[0m\u001b[1;33m\u001b[0m\u001b[0m\n",
      "\u001b[1;32m~\\Anaconda3\\lib\\site-packages\\pandas\\io\\parsers.py\u001b[0m in \u001b[0;36m_make_engine\u001b[1;34m(self, engine)\u001b[0m\n\u001b[0;32m   1048\u001b[0m             )\n\u001b[0;32m   1049\u001b[0m         \u001b[1;31m# error: Too many arguments for \"ParserBase\"\u001b[0m\u001b[1;33m\u001b[0m\u001b[1;33m\u001b[0m\u001b[1;33m\u001b[0m\u001b[0m\n\u001b[1;32m-> 1050\u001b[1;33m         \u001b[1;32mreturn\u001b[0m \u001b[0mmapping\u001b[0m\u001b[1;33m[\u001b[0m\u001b[0mengine\u001b[0m\u001b[1;33m]\u001b[0m\u001b[1;33m(\u001b[0m\u001b[0mself\u001b[0m\u001b[1;33m.\u001b[0m\u001b[0mf\u001b[0m\u001b[1;33m,\u001b[0m \u001b[1;33m**\u001b[0m\u001b[0mself\u001b[0m\u001b[1;33m.\u001b[0m\u001b[0moptions\u001b[0m\u001b[1;33m)\u001b[0m  \u001b[1;31m# type: ignore[call-arg]\u001b[0m\u001b[1;33m\u001b[0m\u001b[1;33m\u001b[0m\u001b[0m\n\u001b[0m\u001b[0;32m   1051\u001b[0m \u001b[1;33m\u001b[0m\u001b[0m\n\u001b[0;32m   1052\u001b[0m     \u001b[1;32mdef\u001b[0m \u001b[0m_failover_to_python\u001b[0m\u001b[1;33m(\u001b[0m\u001b[0mself\u001b[0m\u001b[1;33m)\u001b[0m\u001b[1;33m:\u001b[0m\u001b[1;33m\u001b[0m\u001b[1;33m\u001b[0m\u001b[0m\n",
      "\u001b[1;32m~\\Anaconda3\\lib\\site-packages\\pandas\\io\\parsers.py\u001b[0m in \u001b[0;36m__init__\u001b[1;34m(self, src, **kwds)\u001b[0m\n\u001b[0;32m   1865\u001b[0m \u001b[1;33m\u001b[0m\u001b[0m\n\u001b[0;32m   1866\u001b[0m         \u001b[1;31m# open handles\u001b[0m\u001b[1;33m\u001b[0m\u001b[1;33m\u001b[0m\u001b[1;33m\u001b[0m\u001b[0m\n\u001b[1;32m-> 1867\u001b[1;33m         \u001b[0mself\u001b[0m\u001b[1;33m.\u001b[0m\u001b[0m_open_handles\u001b[0m\u001b[1;33m(\u001b[0m\u001b[0msrc\u001b[0m\u001b[1;33m,\u001b[0m \u001b[0mkwds\u001b[0m\u001b[1;33m)\u001b[0m\u001b[1;33m\u001b[0m\u001b[1;33m\u001b[0m\u001b[0m\n\u001b[0m\u001b[0;32m   1868\u001b[0m         \u001b[1;32massert\u001b[0m \u001b[0mself\u001b[0m\u001b[1;33m.\u001b[0m\u001b[0mhandles\u001b[0m \u001b[1;32mis\u001b[0m \u001b[1;32mnot\u001b[0m \u001b[1;32mNone\u001b[0m\u001b[1;33m\u001b[0m\u001b[1;33m\u001b[0m\u001b[0m\n\u001b[0;32m   1869\u001b[0m         \u001b[1;32mfor\u001b[0m \u001b[0mkey\u001b[0m \u001b[1;32min\u001b[0m \u001b[1;33m(\u001b[0m\u001b[1;34m\"storage_options\"\u001b[0m\u001b[1;33m,\u001b[0m \u001b[1;34m\"encoding\"\u001b[0m\u001b[1;33m,\u001b[0m \u001b[1;34m\"memory_map\"\u001b[0m\u001b[1;33m,\u001b[0m \u001b[1;34m\"compression\"\u001b[0m\u001b[1;33m)\u001b[0m\u001b[1;33m:\u001b[0m\u001b[1;33m\u001b[0m\u001b[1;33m\u001b[0m\u001b[0m\n",
      "\u001b[1;32m~\\Anaconda3\\lib\\site-packages\\pandas\\io\\parsers.py\u001b[0m in \u001b[0;36m_open_handles\u001b[1;34m(self, src, kwds)\u001b[0m\n\u001b[0;32m   1360\u001b[0m         \u001b[0mLet\u001b[0m \u001b[0mthe\u001b[0m \u001b[0mreaders\u001b[0m \u001b[0mopen\u001b[0m \u001b[0mIOHanldes\u001b[0m \u001b[0mafter\u001b[0m \u001b[0mthey\u001b[0m \u001b[0mare\u001b[0m \u001b[0mdone\u001b[0m \u001b[1;32mwith\u001b[0m \u001b[0mtheir\u001b[0m \u001b[0mpotential\u001b[0m \u001b[0mraises\u001b[0m\u001b[1;33m.\u001b[0m\u001b[1;33m\u001b[0m\u001b[1;33m\u001b[0m\u001b[0m\n\u001b[0;32m   1361\u001b[0m         \"\"\"\n\u001b[1;32m-> 1362\u001b[1;33m         self.handles = get_handle(\n\u001b[0m\u001b[0;32m   1363\u001b[0m             \u001b[0msrc\u001b[0m\u001b[1;33m,\u001b[0m\u001b[1;33m\u001b[0m\u001b[1;33m\u001b[0m\u001b[0m\n\u001b[0;32m   1364\u001b[0m             \u001b[1;34m\"r\"\u001b[0m\u001b[1;33m,\u001b[0m\u001b[1;33m\u001b[0m\u001b[1;33m\u001b[0m\u001b[0m\n",
      "\u001b[1;32m~\\Anaconda3\\lib\\site-packages\\pandas\\io\\common.py\u001b[0m in \u001b[0;36mget_handle\u001b[1;34m(path_or_buf, mode, encoding, compression, memory_map, is_text, errors, storage_options)\u001b[0m\n\u001b[0;32m    640\u001b[0m                 \u001b[0merrors\u001b[0m \u001b[1;33m=\u001b[0m \u001b[1;34m\"replace\"\u001b[0m\u001b[1;33m\u001b[0m\u001b[1;33m\u001b[0m\u001b[0m\n\u001b[0;32m    641\u001b[0m             \u001b[1;31m# Encoding\u001b[0m\u001b[1;33m\u001b[0m\u001b[1;33m\u001b[0m\u001b[1;33m\u001b[0m\u001b[0m\n\u001b[1;32m--> 642\u001b[1;33m             handle = open(\n\u001b[0m\u001b[0;32m    643\u001b[0m                 \u001b[0mhandle\u001b[0m\u001b[1;33m,\u001b[0m\u001b[1;33m\u001b[0m\u001b[1;33m\u001b[0m\u001b[0m\n\u001b[0;32m    644\u001b[0m                 \u001b[0mioargs\u001b[0m\u001b[1;33m.\u001b[0m\u001b[0mmode\u001b[0m\u001b[1;33m,\u001b[0m\u001b[1;33m\u001b[0m\u001b[1;33m\u001b[0m\u001b[0m\n",
      "\u001b[1;31mFileNotFoundError\u001b[0m: [Errno 2] No such file or directory: 'C:\\\\Users\\\\cpdiaz\\\\OneDrive - Telefonica\\\\Personal\\\\Data Science UDD 2021\\\\Python\\\\Trabajo_Final\\\\udd-python-c19-g12/dataSets/producto7/PCR_std.csv'"
     ]
=======
   "execution_count": 24,
=======
   "execution_count": 62,
>>>>>>> d63b07487363d65dd81392175e984b9cb8b77dcb
=======
   "execution_count": 24,
>>>>>>> bae7f6a217b75d536c24de653ea28fe98242c773
=======
   "execution_count": 56,
>>>>>>> 313cc5f8c43e5b0b5b557fbe7948186e7a3f2fdf
   "id": "fc113073",
   "metadata": {},
   "outputs": [],
   "source": [
    "servelDf = pd.read_excel(os.getcwd() + \"/dataSets/servel/circ_servel.xlsx\", index_col=None, header=0)\n",
    "\n",
    "#Define dataset de examenes PCR por region/fecha\n",
    "pcrStdDf = pd.read_csv(os.getcwd() + \"/dataSets/producto7/PCR_std.csv\", index_col=None, header=0)\n",
    "pcrStdDf.columns = ['region', 'codigo_region', 'poblacion', 'fecha', 'numero_pcr']\n",
    "\n",
    "#Define dataset de casos nuevos por region/fecha\n",
    "casosNuevosDf = pd.read_csv(os.getcwd() + \"/dataSets/producto13/CasosNuevosCumulativo_std.csv\", index_col=None, header=0)\n",
    "casosNuevosDf.columns = ['region', 'fecha', 'total']"
   ]
  },
  {
   "cell_type": "code",
<<<<<<< HEAD
   "execution_count": 25,
   "id": "cadc485e",
   "metadata": {},
<<<<<<< HEAD
=======
   "execution_count": 57,
   "id": "cadc485e",
   "metadata": {},
   "outputs": [],
   "source": [
    "casosNuevosDfCondicionesCodRegion = (\n",
    "    (casosNuevosDf['region'] == 'Arica y Parinacota'),\n",
    "    (casosNuevosDf['region'] == 'Tarapacá'),\n",
    "    (casosNuevosDf['region'] == 'Antofagasta'),\n",
    "    (casosNuevosDf['region'] == 'Atacama'),\n",
    "    (casosNuevosDf['region'] == 'Coquimbo'),\n",
    "    (casosNuevosDf['region'] == 'Valparaíso'),\n",
    "    (casosNuevosDf['region'] == 'O’Higgins'),\n",
    "    (casosNuevosDf['region'] == 'Maule'),\n",
    "    (casosNuevosDf['region'] == 'Ñuble'),\n",
    "    (casosNuevosDf['region'] == 'Biobío'),\n",
    "    (casosNuevosDf['region'] == 'Araucanía'),\n",
    "    (casosNuevosDf['region'] == 'Los Ríos'),\n",
    "    (casosNuevosDf['region'] == 'Los Lagos'),\n",
    "    (casosNuevosDf['region'] == 'Aysén'),\n",
    "    (casosNuevosDf['region'] == 'Magallanes'),\n",
    "    (casosNuevosDf['region'] == 'Metropolitana')\n",
    ")\n",
    "\n",
    "casosNuevosDfValoresCodRegion = [15, 1, 2, 3, 4, 5, 6, 7, 16, 8, 9, 14, 10, 11, 12, 13]\n",
    "\n",
    "casosNuevosDf['codigo_region'] = np.select(casosNuevosDfCondicionesCodRegion, casosNuevosDfValoresCodRegion)\n",
    "\n",
    "#casosNuevosDf.head(17)"
   ]
  },
  {
   "cell_type": "code",
   "execution_count": 64,
   "id": "6ff6865f",
   "metadata": {},
>>>>>>> 313cc5f8c43e5b0b5b557fbe7948186e7a3f2fdf
   "outputs": [
    {
     "data": {
      "text/html": [
       "<div>\n",
       "<style scoped>\n",
       "    .dataframe tbody tr th:only-of-type {\n",
       "        vertical-align: middle;\n",
       "    }\n",
       "\n",
       "    .dataframe tbody tr th {\n",
       "        vertical-align: top;\n",
       "    }\n",
       "\n",
       "    .dataframe thead th {\n",
       "        text-align: right;\n",
       "    }\n",
       "</style>\n",
       "<table border=\"1\" class=\"dataframe\">\n",
       "  <thead>\n",
       "    <tr style=\"text-align: right;\">\n",
       "      <th></th>\n",
       "      <th>Region</th>\n",
       "      <th>Casos totales acumulados</th>\n",
       "      <th>Casos activos confirmados</th>\n",
       "      <th>Fallecidos totales</th>\n",
       "      <th>Casos confirmados recuperados</th>\n",
       "      <th>Casos confirmados por antigeno</th>\n",
       "      <th>Casos con sospecha de reinfeccion</th>\n",
       "      <th>Casos probables acumulados</th>\n",
       "      <th>Casos activos probables</th>\n",
       "      <th>Casos nuevos totales</th>\n",
       "      <th>Casos nuevos con sintomas</th>\n",
       "      <th>Casos nuevos sin sintomas*</th>\n",
       "      <th>Casos nuevos reportados por laboratorio</th>\n",
       "      <th>Casos nuevos confirmados por antigeno</th>\n",
       "    </tr>\n",
       "  </thead>\n",
       "  <tbody>\n",
       "    <tr>\n",
       "      <th>0</th>\n",
       "      <td>Arica y Parinacota</td>\n",
       "      <td>23404</td>\n",
       "      <td>696</td>\n",
       "      <td>455</td>\n",
       "      <td>22233</td>\n",
       "      <td>697</td>\n",
       "      <td>26</td>\n",
       "      <td>2773</td>\n",
       "      <td>132</td>\n",
       "      <td>107</td>\n",
       "      <td>43</td>\n",
       "      <td>61</td>\n",
       "      <td>3</td>\n",
       "      <td>12</td>\n",
       "    </tr>\n",
       "    <tr>\n",
       "      <th>1</th>\n",
       "      <td>Tarapacá</td>\n",
       "      <td>37384</td>\n",
       "      <td>537</td>\n",
       "      <td>685</td>\n",
       "      <td>36143</td>\n",
       "      <td>286</td>\n",
       "      <td>38</td>\n",
       "      <td>8517</td>\n",
       "      <td>267</td>\n",
       "      <td>76</td>\n",
       "      <td>54</td>\n",
       "      <td>20</td>\n",
       "      <td>2</td>\n",
       "      <td>0</td>\n",
       "    </tr>\n",
       "    <tr>\n",
       "      <th>2</th>\n",
       "      <td>Antofagasta</td>\n",
       "      <td>54523</td>\n",
       "      <td>1186</td>\n",
       "      <td>1061</td>\n",
       "      <td>52225</td>\n",
       "      <td>523</td>\n",
       "      <td>33</td>\n",
       "      <td>5383</td>\n",
       "      <td>173</td>\n",
       "      <td>141</td>\n",
       "      <td>92</td>\n",
       "      <td>42</td>\n",
       "      <td>7</td>\n",
       "      <td>1</td>\n",
       "    </tr>\n",
       "    <tr>\n",
       "      <th>3</th>\n",
       "      <td>Atacama</td>\n",
       "      <td>22194</td>\n",
       "      <td>862</td>\n",
       "      <td>246</td>\n",
       "      <td>21095</td>\n",
       "      <td>359</td>\n",
       "      <td>17</td>\n",
       "      <td>1144</td>\n",
       "      <td>103</td>\n",
       "      <td>34</td>\n",
       "      <td>22</td>\n",
       "      <td>11</td>\n",
       "      <td>1</td>\n",
       "      <td>12</td>\n",
       "    </tr>\n",
       "    <tr>\n",
       "      <th>4</th>\n",
       "      <td>Coquimbo</td>\n",
       "      <td>39766</td>\n",
       "      <td>1747</td>\n",
       "      <td>726</td>\n",
       "      <td>37275</td>\n",
       "      <td>217</td>\n",
       "      <td>22</td>\n",
       "      <td>6603</td>\n",
       "      <td>309</td>\n",
       "      <td>278</td>\n",
       "      <td>200</td>\n",
       "      <td>57</td>\n",
       "      <td>21</td>\n",
       "      <td>6</td>\n",
       "    </tr>\n",
       "    <tr>\n",
       "      <th>5</th>\n",
       "      <td>Valparaíso</td>\n",
       "      <td>102941</td>\n",
       "      <td>3839</td>\n",
       "      <td>2669</td>\n",
       "      <td>96365</td>\n",
       "      <td>1129</td>\n",
       "      <td>50</td>\n",
       "      <td>39881</td>\n",
       "      <td>1241</td>\n",
       "      <td>554</td>\n",
       "      <td>374</td>\n",
       "      <td>102</td>\n",
       "      <td>78</td>\n",
       "      <td>17</td>\n",
       "    </tr>\n",
       "    <tr>\n",
       "      <th>6</th>\n",
       "      <td>Metropolitana</td>\n",
       "      <td>600466</td>\n",
       "      <td>22269</td>\n",
       "      <td>15798</td>\n",
       "      <td>561778</td>\n",
       "      <td>22734</td>\n",
       "      <td>635</td>\n",
       "      <td>121551</td>\n",
       "      <td>6849</td>\n",
       "      <td>3390</td>\n",
       "      <td>2151</td>\n",
       "      <td>785</td>\n",
       "      <td>454</td>\n",
       "      <td>387</td>\n",
       "    </tr>\n",
       "    <tr>\n",
       "      <th>7</th>\n",
       "      <td>O’Higgins</td>\n",
       "      <td>59803</td>\n",
       "      <td>2576</td>\n",
       "      <td>1208</td>\n",
       "      <td>56002</td>\n",
       "      <td>1192</td>\n",
       "      <td>41</td>\n",
       "      <td>12134</td>\n",
       "      <td>557</td>\n",
       "      <td>274</td>\n",
       "      <td>171</td>\n",
       "      <td>92</td>\n",
       "      <td>11</td>\n",
       "      <td>18</td>\n",
       "    </tr>\n",
       "    <tr>\n",
       "      <th>8</th>\n",
       "      <td>Maule</td>\n",
       "      <td>87896</td>\n",
       "      <td>3128</td>\n",
       "      <td>1406</td>\n",
       "      <td>83315</td>\n",
       "      <td>5826</td>\n",
       "      <td>54</td>\n",
       "      <td>8414</td>\n",
       "      <td>613</td>\n",
       "      <td>411</td>\n",
       "      <td>274</td>\n",
       "      <td>135</td>\n",
       "      <td>2</td>\n",
       "      <td>61</td>\n",
       "    </tr>\n",
       "    <tr>\n",
       "      <th>9</th>\n",
       "      <td>Ñuble</td>\n",
       "      <td>31444</td>\n",
       "      <td>1163</td>\n",
       "      <td>524</td>\n",
       "      <td>29745</td>\n",
       "      <td>524</td>\n",
       "      <td>33</td>\n",
       "      <td>8748</td>\n",
       "      <td>244</td>\n",
       "      <td>175</td>\n",
       "      <td>129</td>\n",
       "      <td>42</td>\n",
       "      <td>4</td>\n",
       "      <td>6</td>\n",
       "    </tr>\n",
       "    <tr>\n",
       "      <th>10</th>\n",
       "      <td>Biobío</td>\n",
       "      <td>134267</td>\n",
       "      <td>3688</td>\n",
       "      <td>2153</td>\n",
       "      <td>128368</td>\n",
       "      <td>1849</td>\n",
       "      <td>88</td>\n",
       "      <td>29128</td>\n",
       "      <td>1113</td>\n",
       "      <td>509</td>\n",
       "      <td>362</td>\n",
       "      <td>137</td>\n",
       "      <td>10</td>\n",
       "      <td>29</td>\n",
       "    </tr>\n",
       "    <tr>\n",
       "      <th>11</th>\n",
       "      <td>Araucanía</td>\n",
       "      <td>85684</td>\n",
       "      <td>2389</td>\n",
       "      <td>1113</td>\n",
       "      <td>82137</td>\n",
       "      <td>3734</td>\n",
       "      <td>54</td>\n",
       "      <td>10171</td>\n",
       "      <td>495</td>\n",
       "      <td>418</td>\n",
       "      <td>261</td>\n",
       "      <td>119</td>\n",
       "      <td>38</td>\n",
       "      <td>56</td>\n",
       "    </tr>\n",
       "    <tr>\n",
       "      <th>12</th>\n",
       "      <td>Los Ríos</td>\n",
       "      <td>40687</td>\n",
       "      <td>1529</td>\n",
       "      <td>466</td>\n",
       "      <td>38688</td>\n",
       "      <td>1273</td>\n",
       "      <td>22</td>\n",
       "      <td>4466</td>\n",
       "      <td>223</td>\n",
       "      <td>228</td>\n",
       "      <td>118</td>\n",
       "      <td>103</td>\n",
       "      <td>7</td>\n",
       "      <td>18</td>\n",
       "    </tr>\n",
       "    <tr>\n",
       "      <th>13</th>\n",
       "      <td>Los Lagos</td>\n",
       "      <td>79749</td>\n",
       "      <td>2116</td>\n",
       "      <td>1086</td>\n",
       "      <td>76524</td>\n",
       "      <td>723</td>\n",
       "      <td>49</td>\n",
       "      <td>13530</td>\n",
       "      <td>552</td>\n",
       "      <td>286</td>\n",
       "      <td>174</td>\n",
       "      <td>96</td>\n",
       "      <td>16</td>\n",
       "      <td>2</td>\n",
       "    </tr>\n",
       "    <tr>\n",
       "      <th>14</th>\n",
       "      <td>Aysén</td>\n",
       "      <td>6501</td>\n",
       "      <td>578</td>\n",
       "      <td>43</td>\n",
       "      <td>5883</td>\n",
       "      <td>206</td>\n",
       "      <td>1</td>\n",
       "      <td>1353</td>\n",
       "      <td>93</td>\n",
       "      <td>52</td>\n",
       "      <td>21</td>\n",
       "      <td>31</td>\n",
       "      <td>0</td>\n",
       "      <td>2</td>\n",
       "    </tr>\n",
       "    <tr>\n",
       "      <th>15</th>\n",
       "      <td>Magallanes</td>\n",
       "      <td>28122</td>\n",
       "      <td>293</td>\n",
       "      <td>419</td>\n",
       "      <td>27395</td>\n",
       "      <td>200</td>\n",
       "      <td>20</td>\n",
       "      <td>3053</td>\n",
       "      <td>85</td>\n",
       "      <td>25</td>\n",
       "      <td>13</td>\n",
       "      <td>9</td>\n",
       "      <td>3</td>\n",
       "      <td>1</td>\n",
       "    </tr>\n",
       "    <tr>\n",
       "      <th>16</th>\n",
       "      <td>Se desconoce región de origen</td>\n",
       "      <td>53</td>\n",
       "      <td>0</td>\n",
       "      <td>0</td>\n",
       "      <td>53</td>\n",
       "      <td>0</td>\n",
       "      <td>0</td>\n",
       "      <td>1</td>\n",
       "      <td>0</td>\n",
       "      <td>0</td>\n",
       "      <td>0</td>\n",
       "      <td>0</td>\n",
       "      <td>0</td>\n",
       "      <td>0</td>\n",
       "    </tr>\n",
       "    <tr>\n",
       "      <th>17</th>\n",
       "      <td>Total</td>\n",
       "      <td>1434884</td>\n",
       "      <td>48596</td>\n",
       "      <td>30058</td>\n",
       "      <td>1355224</td>\n",
       "      <td>41472</td>\n",
       "      <td>1183</td>\n",
       "      <td>276850</td>\n",
       "      <td>13049</td>\n",
       "      <td>6958</td>\n",
       "      <td>4459</td>\n",
       "      <td>1842</td>\n",
       "      <td>657</td>\n",
       "      <td>628</td>\n",
       "    </tr>\n",
       "  </tbody>\n",
       "</table>\n",
       "</div>"
      ],
      "text/plain": [
       "                           Region  Casos totales acumulados  \\\n",
       "0              Arica y Parinacota                     23404   \n",
       "1                        Tarapacá                     37384   \n",
       "2                     Antofagasta                     54523   \n",
       "3                         Atacama                     22194   \n",
       "4                        Coquimbo                     39766   \n",
       "5                      Valparaíso                    102941   \n",
       "6                   Metropolitana                    600466   \n",
       "7                       O’Higgins                     59803   \n",
       "8                           Maule                     87896   \n",
       "9                           Ñuble                     31444   \n",
       "10                         Biobío                    134267   \n",
       "11                      Araucanía                     85684   \n",
       "12                       Los Ríos                     40687   \n",
       "13                      Los Lagos                     79749   \n",
       "14                          Aysén                      6501   \n",
       "15                     Magallanes                     28122   \n",
       "16  Se desconoce región de origen                        53   \n",
       "17                          Total                   1434884   \n",
       "\n",
       "    Casos activos confirmados  Fallecidos totales  \\\n",
       "0                         696                 455   \n",
       "1                         537                 685   \n",
       "2                        1186                1061   \n",
       "3                         862                 246   \n",
       "4                        1747                 726   \n",
       "5                        3839                2669   \n",
       "6                       22269               15798   \n",
       "7                        2576                1208   \n",
       "8                        3128                1406   \n",
       "9                        1163                 524   \n",
       "10                       3688                2153   \n",
       "11                       2389                1113   \n",
       "12                       1529                 466   \n",
       "13                       2116                1086   \n",
       "14                        578                  43   \n",
       "15                        293                 419   \n",
       "16                          0                   0   \n",
       "17                      48596               30058   \n",
       "\n",
       "    Casos confirmados recuperados  Casos confirmados por antigeno  \\\n",
       "0                           22233                             697   \n",
       "1                           36143                             286   \n",
       "2                           52225                             523   \n",
       "3                           21095                             359   \n",
       "4                           37275                             217   \n",
       "5                           96365                            1129   \n",
       "6                          561778                           22734   \n",
       "7                           56002                            1192   \n",
       "8                           83315                            5826   \n",
       "9                           29745                             524   \n",
       "10                         128368                            1849   \n",
       "11                          82137                            3734   \n",
       "12                          38688                            1273   \n",
       "13                          76524                             723   \n",
       "14                           5883                             206   \n",
       "15                          27395                             200   \n",
       "16                             53                               0   \n",
       "17                        1355224                           41472   \n",
       "\n",
       "    Casos con sospecha de reinfeccion  Casos probables acumulados  \\\n",
       "0                                  26                        2773   \n",
       "1                                  38                        8517   \n",
       "2                                  33                        5383   \n",
       "3                                  17                        1144   \n",
       "4                                  22                        6603   \n",
       "5                                  50                       39881   \n",
       "6                                 635                      121551   \n",
       "7                                  41                       12134   \n",
       "8                                  54                        8414   \n",
       "9                                  33                        8748   \n",
       "10                                 88                       29128   \n",
       "11                                 54                       10171   \n",
       "12                                 22                        4466   \n",
       "13                                 49                       13530   \n",
       "14                                  1                        1353   \n",
       "15                                 20                        3053   \n",
       "16                                  0                           1   \n",
       "17                               1183                      276850   \n",
       "\n",
       "    Casos activos probables  Casos nuevos totales  Casos nuevos con sintomas  \\\n",
       "0                       132                   107                         43   \n",
       "1                       267                    76                         54   \n",
       "2                       173                   141                         92   \n",
       "3                       103                    34                         22   \n",
       "4                       309                   278                        200   \n",
       "5                      1241                   554                        374   \n",
       "6                      6849                  3390                       2151   \n",
       "7                       557                   274                        171   \n",
       "8                       613                   411                        274   \n",
       "9                       244                   175                        129   \n",
       "10                     1113                   509                        362   \n",
       "11                      495                   418                        261   \n",
       "12                      223                   228                        118   \n",
       "13                      552                   286                        174   \n",
       "14                       93                    52                         21   \n",
       "15                       85                    25                         13   \n",
       "16                        0                     0                          0   \n",
       "17                    13049                  6958                       4459   \n",
       "\n",
       "    Casos nuevos sin sintomas*  Casos nuevos reportados por laboratorio  \\\n",
       "0                           61                                        3   \n",
       "1                           20                                        2   \n",
       "2                           42                                        7   \n",
       "3                           11                                        1   \n",
       "4                           57                                       21   \n",
       "5                          102                                       78   \n",
       "6                          785                                      454   \n",
       "7                           92                                       11   \n",
       "8                          135                                        2   \n",
       "9                           42                                        4   \n",
       "10                         137                                       10   \n",
       "11                         119                                       38   \n",
       "12                         103                                        7   \n",
       "13                          96                                       16   \n",
       "14                          31                                        0   \n",
       "15                           9                                        3   \n",
       "16                           0                                        0   \n",
       "17                        1842                                      657   \n",
       "\n",
       "    Casos nuevos confirmados por antigeno  \n",
       "0                                      12  \n",
       "1                                       0  \n",
       "2                                       1  \n",
       "3                                      12  \n",
       "4                                       6  \n",
       "5                                      17  \n",
       "6                                     387  \n",
       "7                                      18  \n",
       "8                                      61  \n",
       "9                                       6  \n",
       "10                                     29  \n",
       "11                                     56  \n",
       "12                                     18  \n",
       "13                                      2  \n",
       "14                                      2  \n",
       "15                                      1  \n",
       "16                                      0  \n",
       "17                                    628  "
      ]
     },
     "execution_count": 64,
     "metadata": {},
     "output_type": "execute_result"
>>>>>>> 9e1a20fa49c0e96dc62fb569d3c7f9f035033f4d
    }
   ],
=======
   "outputs": [],
>>>>>>> bae7f6a217b75d536c24de653ea28fe98242c773
   "source": [
<<<<<<< HEAD
    "casosNuevosDfCondicionesCodRegion = (\n",
    "    (casosNuevosDf['region'] == 'Arica y Parinacota'),\n",
    "    (casosNuevosDf['region'] == 'Tarapacá'),\n",
    "    (casosNuevosDf['region'] == 'Antofagasta'),\n",
    "    (casosNuevosDf['region'] == 'Atacama'),\n",
    "    (casosNuevosDf['region'] == 'Coquimbo'),\n",
    "    (casosNuevosDf['region'] == 'Valparaíso'),\n",
    "    (casosNuevosDf['region'] == 'O’Higgins'),\n",
    "    (casosNuevosDf['region'] == 'Maule'),\n",
    "    (casosNuevosDf['region'] == 'Ñuble'),\n",
    "    (casosNuevosDf['region'] == 'Biobío'),\n",
    "    (casosNuevosDf['region'] == 'Araucanía'),\n",
    "    (casosNuevosDf['region'] == 'Los Ríos'),\n",
    "    (casosNuevosDf['region'] == 'Los Lagos'),\n",
    "    (casosNuevosDf['region'] == 'Aysén'),\n",
    "    (casosNuevosDf['region'] == 'Magallanes'),\n",
    "    (casosNuevosDf['region'] == 'Metropolitana')\n",
    ")\n",
    "\n",
    "casosNuevosDfValoresCodRegion = [15,1,2,3,4,5,6,7,16,8,9,14,10,11,12,13]\n",
    "\n",
    "casosNuevosDf['codigo_region'] = np.select(casosNuevosDfCondicionesCodRegion, casosNuevosDfValoresCodRegion)\n",
    "\n",
    "#casosNuevosDf.head(17)"
   ]
  },
  {
   "cell_type": "code",
<<<<<<< HEAD
<<<<<<< HEAD
<<<<<<< HEAD
   "execution_count": 4,
   "id": "cbdf3b64",
=======
   "execution_count": 20,
=======
   "execution_count": null,
>>>>>>> d63b07487363d65dd81392175e984b9cb8b77dcb
=======
   "execution_count": 34,
>>>>>>> bae7f6a217b75d536c24de653ea28fe98242c773
   "id": "6ff6865f",
>>>>>>> 9e1a20fa49c0e96dc62fb569d3c7f9f035033f4d
   "metadata": {},
   "outputs": [],
   "source": [
    "#Define dataframes product2/4 en un mapa, y cada key es una fecha de un archivo encontrado\n",
    "def loadDataFrameToMap(carpeta, indexKey) :\n",
=======
    "#Define dataframes product2/4 en un mapa, y el key es una fecha de un archivo encontrado en formato YYYYMMDD (int)\n",
    "def cargarDataFramesASeries(carpeta, indexKey) :\n",
>>>>>>> 313cc5f8c43e5b0b5b557fbe7948186e7a3f2fdf
    "        \n",
    "    files = [os.path.basename(x) for x in glob.glob(carpeta)]\n",
    "    \n",
    "    mapDataFramesByDate = {}\n",
    "\n",
    "    for fileName in files:\n",
    "        keyMap = int((fileName[0: -indexKey]).replace(\"-\", ''))\n",
    "        mapDataFramesByDate[keyMap] = pd.read_csv(carpeta[0: -5] + fileName, index_col=None, header=0)\n",
    "    \n",
<<<<<<< HEAD
    "    #ToDo: ordenar por orden ascendente(?)\n",
    "    return pd.Series(mapDataFramesByDate).sort_index()"
   ]
  },
  {
   "cell_type": "code",
<<<<<<< HEAD
<<<<<<< HEAD
<<<<<<< HEAD
   "execution_count": 5,
   "id": "8a3e1f45",
   "metadata": {},
   "outputs": [
    {
     "ename": "KeyError",
     "evalue": "20210607",
     "output_type": "error",
     "traceback": [
      "\u001b[1;31m---------------------------------------------------------------------------\u001b[0m",
      "\u001b[1;31mKeyError\u001b[0m                                  Traceback (most recent call last)",
      "\u001b[1;32m<ipython-input-5-906a68380d77>\u001b[0m in \u001b[0;36m<module>\u001b[1;34m\u001b[0m\n\u001b[0;32m      5\u001b[0m \u001b[0mpathProduct4\u001b[0m \u001b[1;33m=\u001b[0m \u001b[0mos\u001b[0m\u001b[1;33m.\u001b[0m\u001b[0mgetcwd\u001b[0m\u001b[1;33m(\u001b[0m\u001b[1;33m)\u001b[0m \u001b[1;33m+\u001b[0m \u001b[1;34m\"/dataSets/producto4/*.csv\"\u001b[0m\u001b[1;33m;\u001b[0m\u001b[1;33m\u001b[0m\u001b[1;33m\u001b[0m\u001b[0m\n\u001b[0;32m      6\u001b[0m \u001b[0mproduct4MapDF\u001b[0m \u001b[1;33m=\u001b[0m \u001b[0mloadDataFrameToMap\u001b[0m\u001b[1;33m(\u001b[0m\u001b[0mpathProduct4\u001b[0m\u001b[1;33m,\u001b[0m \u001b[1;36m35\u001b[0m\u001b[1;33m)\u001b[0m\u001b[1;33m\u001b[0m\u001b[1;33m\u001b[0m\u001b[0m\n\u001b[1;32m----> 7\u001b[1;33m \u001b[0mproduct4MapDF\u001b[0m\u001b[1;33m[\u001b[0m\u001b[1;36m20210607\u001b[0m\u001b[1;33m]\u001b[0m\u001b[1;33m\u001b[0m\u001b[1;33m\u001b[0m\u001b[0m\n\u001b[0m",
      "\u001b[1;31mKeyError\u001b[0m: 20210607"
     ]
=======
   "execution_count": 25,
=======
   "execution_count": null,
>>>>>>> d63b07487363d65dd81392175e984b9cb8b77dcb
=======
   "execution_count": 35,
>>>>>>> bae7f6a217b75d536c24de653ea28fe98242c773
   "id": "6f19d546",
   "metadata": {},
   "outputs": [],
   "source": [
    "pathProduct2 = os.getcwd() + \"/dataSets/producto2/*.csv\";\n",
    "product2MapDF = loadDataFrameToMap(pathProduct2, 21)\n",
=======
    "    return pd.Series(mapDataFramesByDate).sort_index()\n",
    "\n",
    "product2MapDF = cargarDataFramesASeries(os.getcwd() + \"/dataSets/producto2/*.csv\", 21)\n",
>>>>>>> 313cc5f8c43e5b0b5b557fbe7948186e7a3f2fdf
    "#product2MapDF[20210201]\n",
    "\n",
    "product4MapDF = cargarDataFramesASeries(os.getcwd() + \"/dataSets/producto4/*.csv\", 35)\n",
    "product4MapDF[20210607]"
   ]
  },
  {
   "cell_type": "code",
<<<<<<< HEAD
   "execution_count": 36,
=======
   "execution_count": 66,
>>>>>>> 313cc5f8c43e5b0b5b557fbe7948186e7a3f2fdf
   "id": "8c00e6b8",
   "metadata": {},
   "outputs": [
    {
     "data": {
      "text/plain": [
       "20210101                               Region  Casos total...\n",
       "20210102                               Region  Casos total...\n",
       "20210103                               Region  Casos total...\n",
       "20210104                               Region  Casos total...\n",
       "20210105                               Region  Casos total...\n",
       "dtype: object"
      ]
     },
     "execution_count": 36,
     "metadata": {},
     "output_type": "execute_result"
    }
   ],
   "source": [
    "#ToDo: verificar si es necesaria o no esta funcion!!!!\n",
<<<<<<< HEAD
    "def obtainDataFrames(mapDataFrames, fechaDesde, fechaHasta, exclusiveDesde = False, exclusiveHasta = False) :\n",
=======
    "def obtenerDataFrames(mapDataFrames, fechaDesde, fechaHasta, exclusiveDesde = False, exclusiveHasta = False) :\n",
>>>>>>> 313cc5f8c43e5b0b5b557fbe7948186e7a3f2fdf
    "    \n",
    "    if (fechaHasta < fechaDesde) :\n",
    "        raise Exception('La fecha de la variable fechaHasta, no puede ser menor a la variable fechaDesde') \n",
    "    \n",
    "    if (exclusiveDesde) :\n",
    "        fechaDesde = fechaDesde + 1\n",
<<<<<<< HEAD
    "        \n",
    "    if (exclusiveHasta) :\n",
    "        fechaHasta = fechaHasta - 1\n",
    "        \n",
=======
    "        \n",
    "    if (exclusiveHasta) :\n",
    "        fechaHasta = fechaHasta - 1\n",
    "        \n",
>>>>>>> 313cc5f8c43e5b0b5b557fbe7948186e7a3f2fdf
    "    mapFechasEntre = {}\n",
    "    for mapKeyFecha in mapDataFrames.keys() :\n",
    "        if(mapKeyFecha >= fechaDesde and mapKeyFecha <= fechaHasta) :\n",
    "            mapFechasEntre[mapKeyFecha] = mapDataFrames[mapKeyFecha]\n",
    "\n",
    "    return pd.Series(mapFechasEntre).sort_index()\n",
    "\n",
<<<<<<< HEAD
    "\n",
    "obtainDataFrames(product4MapDF, 20210101, 20210105, False, False)\n"
=======
    "#obtenerDataFrames(product4MapDF, 20210101, 20210105, False, False)"
>>>>>>> 313cc5f8c43e5b0b5b557fbe7948186e7a3f2fdf
   ]
  },
  {
   "cell_type": "markdown",
   "id": "9a76b669",
   "metadata": {},
   "source": [
    "# Positividad de casos\n",
    "\n",
    "(Proporcion de test positivos por dia / Total de test efectuados en un dia) * 100\n",
    "\n",
    "- Proporcion de test positivos por dia => DataSet product4 col: \"casos nuevos totales\"\n",
    "- Total de test efectuados en un dia => DataSet product7 col: \"numero\""
   ]
  },
  {
   "cell_type": "code",
<<<<<<< HEAD
   "execution_count": null,
=======
   "execution_count": 67,
>>>>>>> 313cc5f8c43e5b0b5b557fbe7948186e7a3f2fdf
   "id": "c1eccb0d",
   "metadata": {},
   "outputs": [],
   "source": [
    "def obtenerPcrPorFechaYDistrito(fecha, distrito) :\n",
    "    predicadoFecha = pcrStdDf[\"fecha\"] == fecha\n",
    "    predicadoDistrito = pcrStdDf[\"codigo_region\"] == distrito\n",
    "    \n",
    "    return pcrStdDf[\n",
    "        (predicadoDistrito) & \n",
    "        (predicadoFecha)\n",
    "    ]\n",
    "\n",
    "#obtenerPcrPorFechaYDistrito('2021-08-09', 5)"
   ]
  },
  {
   "cell_type": "code",
<<<<<<< HEAD
   "execution_count": 40,
   "id": "cd0fe99e",
   "metadata": {},
<<<<<<< HEAD
=======
   "execution_count": 68,
   "id": "cd0fe99e",
   "metadata": {},
   "outputs": [],
   "source": [
    "def obtenerCasosNuevosPorFechaYDistrito(fecha, distrito) :\n",
    "    predicadoFecha = casosNuevosDf[\"fecha\"] == fecha\n",
    "    predicadoDistrito = pd.to_numeric(casosNuevosDf[\"codigo_region\"]) == distrito\n",
    "    \n",
    "    return casosNuevosDf[\n",
    "        (predicadoFecha) & \n",
    "        (predicadoDistrito)\n",
    "    ]\n",
    "\n",
    "#obtenerCasosNuevosPorFechaYDistrito('2021-08-09', 5)"
   ]
  },
  {
   "cell_type": "code",
   "execution_count": 69,
   "id": "5b037b32",
   "metadata": {},
>>>>>>> 313cc5f8c43e5b0b5b557fbe7948186e7a3f2fdf
   "outputs": [
    {
     "data": {
      "text/plain": [
       "positividad    1.581124\n",
       "umbral            verde\n",
       "dtype: object"
      ]
     },
     "execution_count": 69,
     "metadata": {},
     "output_type": "execute_result"
>>>>>>> 9e1a20fa49c0e96dc62fb569d3c7f9f035033f4d
    }
   ],
=======
   "outputs": [],
>>>>>>> bae7f6a217b75d536c24de653ea28fe98242c773
   "source": [
<<<<<<< HEAD
    "def obtenerCasosNuevosPorFechaYDistrito(fecha, distrito) :\n",
    "    predicadoFecha = casosNuevosDf[\"fecha\"] == fecha\n",
    "    predicadoDistrito = pd.to_numeric(casosNuevosDf[\"codigo_region\"]) == distrito\n",
    "    \n",
    "    return casosNuevosDf[\n",
    "        (predicadoFecha) & \n",
    "        (predicadoDistrito)\n",
    "    ]\n",
    "\n",
    "#obtenerCasosNuevosPorFechaYDistrito('2021-08-09', 5)"
   ]
  },
  {
   "cell_type": "code",
<<<<<<< HEAD
<<<<<<< HEAD
<<<<<<< HEAD
   "execution_count": null,
   "id": "022f81c4",
=======
   "execution_count": 17,
   "id": "8c00e6b8",
>>>>>>> 9e1a20fa49c0e96dc62fb569d3c7f9f035033f4d
   "metadata": {},
   "outputs": [],
   "source": [
    "#ToDo: verificar si es necesaria o no esta funcion!!!!\n",
    "def obtainDataFrames(mapDataFrames, fromDate, toDate, exclusiveFrom, exclusiveTo) :\n",
    "    \n",
    "    if (exclusiveFrom) :\n",
    "        fromDate = fromDate + 1\n",
    "        \n",
    "    if (exclusiveTo) :\n",
    "        toDate = toDate - 1\n",
    "    \n",
    "    #print(fromDate, toDate)\n",
    "    \n",
    "    mapBetween = {}\n",
    "    for mapKey in mapDataFrames.keys() :\n",
    "        if(mapKey > fromDate and mapKey < toDate) :\n",
    "            mapBetween[mapKey] = mapDataFrames[mapKey]\n",
    "        \n",
    "    return mapBetween\n",
    "\n",
    "\n",
    "\n",
    "#obtainDataFrames(product4MapDF[20210501], 20210101, 20210110, False, False)\n",
    "#obtainDataFrames(product4MapDF, 20210101, 20210110, True, True)"
   ]
  },
  {
   "cell_type": "markdown",
<<<<<<< HEAD
   "id": "67eefe1c",
   "metadata": {},
   "source": [
    "Positividad de casos\n",
    "(Proporcion de test positivos por dia / Total de test efectuados en un dia) * 100\n",
    "\n",
    "Proporcion de test positivos por dia => DataSet product4 col: \"casos nuevos totales\"\n",
    "Total de test efectuados en un dia => DataSet product7 col: \"numero\""
=======
   "id": "9a76b669",
   "metadata": {},
   "source": [
    "# Positividad de casos\n",
    "\n",
    "(Proporcion de test positivos por dia / Total de test efectuados en un dia) * 100\n",
    "\n",
    "- Proporcion de test positivos por dia => DataSet product4 col: \"casos nuevos totales\"\n",
    "- Total de test efectuados en un dia => DataSet product7 col: \"numero\""
>>>>>>> 9e1a20fa49c0e96dc62fb569d3c7f9f035033f4d
=======
   "execution_count": 35,
   "id": "1e2490db",
=======
    "def calculoUmbral(positividad):\n",
    "    if(positividad <= 3) :\n",
    "        return \"verde\"\n",
    "    elif (positividad <= 5 & positividad > 3) :\n",
    "        return \"amarillo\"\n",
    "    elif (positividad > 5) :\n",
    "        return \"naranja\"\n",
    "\n",
    "def calcularPositividadYUmbral(fecha, distrito) :\n",
    "    casosNuevos = obtenerCasosNuevosPorFechaYDistrito(fecha, distrito)\n",
    "    pcr = obtenerPcrPorFechaYDistrito(fecha, distrito)\n",
    "\n",
    "    positividad = ((casosNuevos['total'].item() / pcr['numero_pcr'].item()) * 100)\n",
    "    \n",
    "    return pd.Series({\n",
    "        \"positividad\" : positividad, \n",
    "        \"umbral\": calculoUmbral(positividad)\n",
    "    })\n",
    "\n",
    "calcularPositividadYUmbral('2021-08-09', 5)"
   ]
  },
  {
   "cell_type": "markdown",
   "id": "fcf6527c",
>>>>>>> 313cc5f8c43e5b0b5b557fbe7948186e7a3f2fdf
   "metadata": {},
   "source": [
<<<<<<< HEAD
    "def calcularPositividad(cantidadPcrDiario, casosPositivosDiarios) :\n",
    "    positividad = ((cantidadPcrDiario / casosPositivosDiarios) * 100)"
>>>>>>> d63b07487363d65dd81392175e984b9cb8b77dcb
=======
   "execution_count": 41,
   "id": "5b037b32",
   "metadata": {},
   "outputs": [],
   "source": [
    "def calculoUmbral(positividad):\n",
    "    if(positividad <= 3) :\n",
    "        return \"verde\"\n",
    "    elif (positividad <= 5 & positividad > 3) :\n",
    "        return \"amarillo\"\n",
    "    elif (positividad > 5) :\n",
    "        return \"naranja\"\n",
    "\n",
    "def calcularPositividadYUmbral(fecha, distrito) :\n",
    "    casosNuevos = obtenerCasosNuevosPorFechaYDistrito(fecha, distrito)\n",
    "    pcr = obtenerPcrPorFechaYDistrito(fecha, distrito)\n",
    "\n",
    "    positividad = ((casosNuevos['total'].item() / pcr['numero_pcr'].item()) * 100)\n",
    "    \n",
    "    return pd.Series({\n",
    "        \"positividad\" : positividad, \n",
    "        \"umbral\": calculoUmbral(positividad)\n",
    "    })\n",
    "\n",
    "#calcularPositividadYUmbral('2021-08-09', 5)"
>>>>>>> bae7f6a217b75d536c24de653ea28fe98242c773
=======
    "# Graficos"
>>>>>>> 313cc5f8c43e5b0b5b557fbe7948186e7a3f2fdf
   ]
  },
  {
   "cell_type": "code",
<<<<<<< HEAD
   "execution_count": null,
<<<<<<< HEAD
<<<<<<< HEAD
<<<<<<< HEAD
   "id": "879db8d0",
=======
   "id": "1e2490db",
>>>>>>> 9e1a20fa49c0e96dc62fb569d3c7f9f035033f4d
=======
   "id": "ba534ce2",
>>>>>>> d63b07487363d65dd81392175e984b9cb8b77dcb
=======
   "id": "2c4093c3",
>>>>>>> bae7f6a217b75d536c24de653ea28fe98242c773
   "metadata": {},
   "outputs": [],
=======
   "execution_count": 72,
   "id": "888b24ac",
   "metadata": {},
   "outputs": [],
   "source": [
    "dataFrames = obtenerDataFrames(product4MapDF, 20210101, 20210105, False, False)\n",
    "\n",
    "for k, v in dataFrames \n",
    "    \n",
    "\n",
    "#dataFrames.plot()\n",
    "\n"
   ]
  },
  {
   "cell_type": "code",
   "execution_count": null,
   "id": "b63d3dc5",
   "metadata": {},
   "outputs": [],
>>>>>>> 313cc5f8c43e5b0b5b557fbe7948186e7a3f2fdf
   "source": []
  }
 ],
 "metadata": {
  "kernelspec": {
   "display_name": "Python 3",
   "language": "python",
   "name": "python3"
  },
  "language_info": {
   "codemirror_mode": {
    "name": "ipython",
    "version": 3
   },
   "file_extension": ".py",
   "mimetype": "text/x-python",
   "name": "python",
   "nbconvert_exporter": "python",
   "pygments_lexer": "ipython3",
   "version": "3.8.8"
  }
 },
 "nbformat": 4,
 "nbformat_minor": 5
}
