{
 "cells": [
  {
   "cell_type": "markdown",
   "id": "c08d1ffb",
   "metadata": {},
   "source": [
    "#Proyecto C19 Python"
   ]
  },
  {
   "cell_type": "markdown",
   "id": "0e9e2954",
   "metadata": {},
   "source": [
    "reportando cpdiaz"
   ]
  },
  {
   "cell_type": "code",
   "execution_count": 24,
   "id": "c91b980e",
   "metadata": {},
   "outputs": [],
   "source": [
    "#Imports\n",
    "import pandas as pd\n",
    "import matplotlib.pyplot as plt\n",
    "import seaborn as sns\n",
    "import numpy as np\n",
    "from scipy.stats import norm\n",
    "from scipy import stats\n",
    "import os\n",
    "import glob"
   ]
  },
  {
   "cell_type": "code",
   "execution_count": 25,
   "id": "6de3e829",
   "metadata": {},
   "outputs": [],
   "source": [
    "#Define dataset de examenes PCR por region/fecha\n",
    "pcrStd = pd.read_csv(os.getcwd() + \"/dataSets/producto7/PCR_std.csv\", index_col=None, header=0)"
   ]
  },
  {
   "cell_type": "code",
   "execution_count": 26,
   "id": "cbdf3b64",
   "metadata": {},
   "outputs": [],
   "source": [
    "#Define dataframes product2/4 en un mapa, y cada key es una fecha de un archivo encontrado\n",
    "def loadDataFrameToMap(folder, indexKey) :\n",
    "        \n",
    "    files = [os.path.basename(x) for x in glob.glob(folder)]\n",
    "    \n",
    "    mapDataFramesByDate = {}\n",
    "\n",
    "    for fileName in files:\n",
    "        keyMap = int((fileName[0: -indexKey]).replace(\"-\", ''))\n",
    "        mapDataFramesByDate[keyMap] = pd.read_csv(folder[0: -5] + fileName, index_col=None, header=0)\n",
    "    \n",
    "    return mapDataFramesByDate"
   ]
  },
  {
   "cell_type": "code",
   "execution_count": 27,
   "id": "8a3e1f45",
   "metadata": {},
   "outputs": [],
   "source": [
    "pathProduct2 = os.getcwd() + \"/dataSets/producto2/*.csv\";\n",
    "product2MapDF = loadDataFrameToMap(pathProduct2, 21)\n",
    "product2MapDF[20210201]\n",
    "\n",
    "pathProduct4 = os.getcwd() + \"/dataSets/producto4/*.csv\";\n",
    "product4MapDF = loadDataFrameToMap(pathProduct4, 35)\n",
    "#product4MapDF[20210607]"
   ]
  },
  {
   "cell_type": "code",
   "execution_count": null,
   "id": "022f81c4",
   "metadata": {},
   "outputs": [],
   "source": [
    "#ToDo: verificar si es necesaria o no esta funcion!!!!\n",
    "def obtainDataFrames(mapDataFrames, fromDate, toDate, exclusiveFrom, exclusiveTo) :\n",
    "    \n",
    "    if (exclusiveFrom) :\n",
    "        fromDate = fromDate + 1\n",
    "        \n",
    "    if (exclusiveTo) :\n",
    "        toDate = toDate - 1\n",
    "    \n",
    "    #print(fromDate, toDate)\n",
    "    \n",
    "    mapBetween = {}\n",
    "    for mapKey in mapDataFrames.keys() :\n",
    "        if(mapKey > fromDate and mapKey < toDate) :\n",
    "            mapBetween[mapKey] = mapDataFrames[mapKey]\n",
    "        \n",
    "    return mapBetween\n",
    "\n",
    "\n",
    "\n",
    "#obtainDataFrames(product4MapDF[20210501], 20210101, 20210110, False, False)\n",
    "#obtainDataFrames(product4MapDF, 20210101, 20210110, True, True)"
   ]
  },
  {
   "cell_type": "markdown",
   "id": "67eefe1c",
   "metadata": {},
   "source": [
    "Positividad de casos\n",
    "(Proporcion de test positivos por dia / Total de test efectuados en un dia) * 100\n",
    "\n",
    "Proporcion de test positivos por dia => DataSet product4 col: \"casos nuevos totales\"\n",
    "Total de test efectuados en un dia => DataSet product7 col: \"numero\""
   ]
  },
  {
   "cell_type": "code",
   "execution_count": 22,
   "id": "879db8d0",
   "metadata": {},
   "outputs": [
    {
     "ename": "KeyError",
     "evalue": "'Casos activos confirmados'",
     "output_type": "error",
     "traceback": [
      "\u001b[1;31m---------------------------------------------------------------------------\u001b[0m",
      "\u001b[1;31mKeyError\u001b[0m                                  Traceback (most recent call last)",
      "\u001b[1;32m<ipython-input-22-1a0864658d09>\u001b[0m in \u001b[0;36m<module>\u001b[1;34m\u001b[0m\n\u001b[0;32m      1\u001b[0m \u001b[1;31m# Histograma\u001b[0m\u001b[1;33m\u001b[0m\u001b[1;33m\u001b[0m\u001b[1;33m\u001b[0m\u001b[0m\n\u001b[1;32m----> 2\u001b[1;33m \u001b[0msns\u001b[0m\u001b[1;33m.\u001b[0m\u001b[0mdistplot\u001b[0m\u001b[1;33m(\u001b[0m\u001b[0mproduct4MapDF\u001b[0m\u001b[1;33m[\u001b[0m\u001b[1;34m'Casos activos confirmados'\u001b[0m\u001b[1;33m]\u001b[0m\u001b[1;33m,\u001b[0m\u001b[1;33m(\u001b[0m\u001b[1;36m20210607\u001b[0m\u001b[1;33m)\u001b[0m\u001b[1;33m)\u001b[0m\u001b[1;33m\u001b[0m\u001b[1;33m\u001b[0m\u001b[0m\n\u001b[0m",
      "\u001b[1;31mKeyError\u001b[0m: 'Casos activos confirmados'"
     ]
    }
   ],
   "source": []
  },
  {
   "cell_type": "code",
   "execution_count": null,
   "id": "5220c36d",
   "metadata": {},
   "outputs": [],
   "source": []
  }
 ],
 "metadata": {
  "kernelspec": {
   "display_name": "Python 3",
   "language": "python",
   "name": "python3"
  },
  "language_info": {
   "codemirror_mode": {
    "name": "ipython",
    "version": 3
   },
   "file_extension": ".py",
   "mimetype": "text/x-python",
   "name": "python",
   "nbconvert_exporter": "python",
   "pygments_lexer": "ipython3",
   "version": "3.8.8"
  }
 },
 "nbformat": 4,
 "nbformat_minor": 5
}
